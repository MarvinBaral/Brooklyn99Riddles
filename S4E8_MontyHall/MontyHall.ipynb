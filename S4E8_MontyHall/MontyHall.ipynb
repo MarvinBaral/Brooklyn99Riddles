{
 "cells": [
  {
   "cell_type": "code",
   "execution_count": 1,
   "metadata": {},
   "outputs": [],
   "source": [
    "import numpy as np"
   ]
  },
  {
   "cell_type": "markdown",
   "metadata": {},
   "source": [
    "I want to experimentally prove that the supposedly right answer of the Monty Hall Problem is incorrect.\n",
    "The game goes as follows: You are confronted with 3 doors, behind of which one is a car (WIN).\n",
    "The other ones have goats/nothing (LOOSE).\n",
    "You only have one choice. So we start with a clear 1/3 probability of winning for each door.\n",
    "\n",
    "After you make your choice, the game host (knowing the location of the WIN) opens one door that contains a LOOSE and offers you to change.\n",
    "Appearently according to statistical definitions the probabilities have locked in after your choice and the 1/3 WIN probability falls to the other door you did not choose (as your door must somehow stay at 1/3 chance).\n",
    "This gives the door you have currently not selected a 2/3 chance of winnig and you should definetly switch.\n",
    "I personally think that is an error in the definition of statistics. The situation has changed and the winning probability should now be 1/2 for each of the two remaining doors.\n",
    "How is that scenario different from starting with two doors in the first place?\n",
    "\n",
    "So, in this jupyter notebook I will simulate multiple runs of this game first for one, then for a second player.\n",
    "Player Math will always switch doors when offered the choice.\n",
    "Player Me will always stay at his selected door.\n",
    "If those statistical definitions represent reality Player Math should win 2/3 of his games and player Me 1/3.\n",
    "If I am right both players Math and player Me should even out at a 50/50 win chance, showing that this choice has no effect.                                           "
   ]
  },
  {
   "cell_type": "code",
   "execution_count": 2,
   "metadata": {},
   "outputs": [
    {
     "name": "stdout",
     "output_type": "stream",
     "text": [
      "Player won 66808 out of 100000 Monty Hall games\n"
     ]
    }
   ],
   "source": [
    "np.random.seed() #true random numbers https://docs.scipy.org/doc/numpy-1.3.x/reference/generated/numpy.random.seed.html\n",
    "\n",
    "def Math(player_d, host_d):\n",
    "    player_d += 1 #choose the other closed door (try the one next to it)\n",
    "    if player_d == 4:\n",
    "        player_d = 1 #modulo would fuck up here\n",
    "    if player_d == host_d: #if the next door is already the one opened, go one door further, reaching the other closed door for sure\n",
    "        player_d += 1\n",
    "    if player_d == 4:\n",
    "        player_d = 1 #modulo would fuck up here\n",
    "    return player_d\n",
    "\n",
    "def Me(player_d, host_d):\n",
    "    return player_d\n",
    "\n",
    "player_wins = 0\n",
    "player_looses = 0\n",
    "for i in range(100000):\n",
    "    win_door = np.random.randint(1, 3+1) #the door that contains the WIN (shall not be seen by player)\n",
    "    player_door = np.random.randint(1, 3+1) #the door the player chooses initially\n",
    "    host_door = np.random.randint(1, 3+1) #the door the host opens, containing a known LOOSE\n",
    "    while host_door == win_door or host_door == player_door:  #make sure the host doesn't reaveal a WIN and does not open the players door\n",
    "        host_door = np.random.randint(1, 3+1)\n",
    "    #the player now gets access to the door the host has opened as a LOOSE (never the player door) and can change his choice\n",
    "    # ====== choose your player =======\n",
    "    #player_door = Me(player_door, host_door)\n",
    "    player_door = Math(player_door, host_door)\n",
    "    # =================================\n",
    "    if player_door == win_door:\n",
    "        player_wins += 1\n",
    "    elif player_door == host_door:\n",
    "        print(\"internal error\")\n",
    "    else:\n",
    "        player_looses += 1\n",
    "    #print(win_door, player_door, host_door, player_wins, player_looses)\n",
    "print(\"Player won \" + str(player_wins) + \" out of \" + str(player_wins+player_looses) + \" Monty Hall games\")"
   ]
  },
  {
   "cell_type": "markdown",
   "metadata": {},
   "source": [
    "I was wrong. Math wins 2/3 of the games while Me wins 1/3 of the games."
   ]
  },
  {
   "cell_type": "markdown",
   "metadata": {},
   "source": [
    "This was my first implementation of the host door:"
   ]
  },
  {
   "cell_type": "code",
   "execution_count": null,
   "metadata": {},
   "outputs": [],
   "source": [
    "    host_door = np.random.randint(1, 3+1) #the door the host opens, containing a known LOOSE\n",
    "    while host_door == win_door: #make sure the host doesn't reaveal a WIN\n",
    "        host_door = np.random.randint(1, 3+1)\n",
    "    #the player now gets access to the door the host has revealed as a LOOSE and can change his choice\n",
    "    "
   ]
  },
  {
   "cell_type": "markdown",
   "metadata": {},
   "source": [
    "But as I now realize during the implementation, the host doesn't just randomly open one of the two LOOSE doors, but specifically the one you have not yet opened (never opening your door - that would make the \"do you want to change?\" choice pretty obvious). So the correct implementation would be as below.\n",
    "It could be that kind of selectiveness that changes the odds of the situation."
   ]
  },
  {
   "cell_type": "code",
   "execution_count": null,
   "metadata": {},
   "outputs": [],
   "source": [
    "    host_door = np.random.randint(1, 3+1) #the door the host opens, containing a known LOOSE\n",
    "    while host_door == win_door or host_door == player_door: #make sure the host doesn't reaveal a WIN and does not open the players door\n",
    "        host_door = np.random.randint(1, 3+1)\n",
    "    #the player now gets access to the door the host has revealed as a LOOSE (never the player door) and can change his choice\n",
    "    "
   ]
  },
  {
   "cell_type": "markdown",
   "metadata": {},
   "source": [
    "To explain this intuitively to myself:\n",
    "\n",
    "The most likely scenario is that you choose a LOOSE door at the start (with 2/3). So if we assume that is the case, then the host would eliminate the other LOOSE door for you, giving you a free win in this scenario.\n",
    "It is only in the 1/3 chance that you choose the WIN at the start, that you don't get any help by the elimination and the continuation of that changing doors strategy would guarantee you a loose. Thus we end up winning 2/3.\n",
    "\n",
    "Whereas staying at your previous door ignores the additional information and just gives you the starting odds of 1/3."
   ]
  },
  {
   "cell_type": "markdown",
   "metadata": {},
   "source": [
    "Let's try the first, wrong implementation to confirm that this difference was the turning point (host can open the players door, the player will obviously open a different one if he does so):"
   ]
  },
  {
   "cell_type": "code",
   "execution_count": 3,
   "metadata": {},
   "outputs": [
    {
     "name": "stdout",
     "output_type": "stream",
     "text": [
      "Player won 49914 out of 100000 1/2 games\n"
     ]
    }
   ],
   "source": [
    "def Me(player_d, host_d):\n",
    "    if player_d == host_d:      #even I would switch if I saw that the LOOSE is in front of me\n",
    "        player_d += 1\n",
    "    if player_d == 4:\n",
    "        player_d = 1\n",
    "    return player_d\n",
    "\n",
    "\n",
    "#wrong implementation: \n",
    "player_wins = 0\n",
    "player_looses = 0\n",
    "for i in range(100000):\n",
    "    win_door = np.random.randint(1, 3+1) #the door that contains the WIN (shall not be seen by player)\n",
    "    player_door = np.random.randint(1, 3+1) #the door the player chooses initially\n",
    "    host_door = np.random.randint(1, 3+1) #the door the host opens, containing a known LOOSE\n",
    "    while host_door == win_door: #make sure the host doesn't reaveal a WIN or select the player_door (would defy purpose)\n",
    "        host_door = np.random.randint(1, 3+1)\n",
    "    #the player now gets access to the door the host has opened as a LOOSE (never the player door) and can change his choice\n",
    "    # ====== choose your player =======\n",
    "    #player_door = Me(player_door, host_door)\n",
    "    player_door = Math(player_door, host_door)\n",
    "    # ==================================\n",
    "    if player_door == win_door:\n",
    "        player_wins += 1\n",
    "    elif player_door == host_door:\n",
    "        print(\"internal error\")\n",
    "    else:\n",
    "        player_looses += 1\n",
    "    #print(win_door, player_door, host_door, player_wins, player_looses)\n",
    "print(\"Player won \" + str(player_wins) + \" out of \" + str(player_wins+player_looses) + \" 1/2 games\")"
   ]
  },
  {
   "cell_type": "markdown",
   "metadata": {},
   "source": [
    "Indeed. We are back at 50/50 for both players. So it is the fact that the host selectively chooses a LOOSE door THAT IS NOT YOUR SELECTED DOOR, that reveals additional information that can be effectively harnessed with the door-changing strategy."
   ]
  },
  {
   "cell_type": "code",
   "execution_count": null,
   "metadata": {},
   "outputs": [],
   "source": [
    "Hmm. I proofed math. v"
   ]
  }
 ],
 "metadata": {
  "kernelspec": {
   "display_name": "Python 3 (ipykernel)",
   "language": "python",
   "name": "python3"
  },
  "language_info": {
   "codemirror_mode": {
    "name": "ipython",
    "version": 3
   },
   "file_extension": ".py",
   "mimetype": "text/x-python",
   "name": "python",
   "nbconvert_exporter": "python",
   "pygments_lexer": "ipython3",
   "version": "3.10.16"
  }
 },
 "nbformat": 4,
 "nbformat_minor": 4
}
